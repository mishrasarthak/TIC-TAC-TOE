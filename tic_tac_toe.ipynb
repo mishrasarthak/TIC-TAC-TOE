{
  "nbformat": 4,
  "nbformat_minor": 0,
  "metadata": {
    "colab": {
      "name": "tic tac toe.ipynb",
      "provenance": [],
      "collapsed_sections": []
    },
    "kernelspec": {
      "name": "python3",
      "display_name": "Python 3"
    }
  },
  "cells": [
    {
      "cell_type": "code",
      "metadata": {
        "id": "HNaMnrg8XAFX",
        "colab_type": "code",
        "colab": {}
      },
      "source": [
        "from IPython.display import clear_output\n",
        "def display_board(board):\n",
        "   clear_output()\n",
        "\n",
        "   print(board[7] + '|' + board[8] + '|' + board[9])\n",
        "   print(board[4] + '|' + board[5] + '|' + board[6])\n",
        "   print(board[1] + '|' + board[2] + '|' + board[3])"
      ],
      "execution_count": 0,
      "outputs": []
    },
    {
      "cell_type": "code",
      "metadata": {
        "id": "dYHraHJTZW0t",
        "colab_type": "code",
        "colab": {
          "base_uri": "https://localhost:8080/",
          "height": 72
        },
        "outputId": "937328f8-818e-4922-c6fd-41c1d0d13715"
      },
      "source": [
        "test_board =['#','X','O','X','O','X','O','X','O','O']\n",
        "display_board(test_board)"
      ],
      "execution_count": 23,
      "outputs": [
        {
          "output_type": "stream",
          "text": [
            "X|O|O\n",
            "O|X|O\n",
            "X|O|X\n"
          ],
          "name": "stdout"
        }
      ]
    },
    {
      "cell_type": "code",
      "metadata": {
        "id": "5hjQnmbuZxbq",
        "colab_type": "code",
        "colab": {}
      },
      "source": [
        "#function that can take in a player input and assign their marker as X and O.\n",
        "\n",
        "def player_input():\n",
        "  '''\n",
        "  Output = (player1 marker , player2 marker)\n",
        "  '''\n",
        "  marker = ''\n",
        "\n",
        "  #keep asking player1 to choose x and o\n",
        "\n",
        "  while marker != 'X' and marker != 'O':\n",
        "    marker = input('Player 1 , choose X or O :').upper()\n",
        "\n",
        "  #Assign player2 the opposite marker\n",
        "\n",
        "  if marker == 'X':\n",
        "    return ('X' , 'O')\n",
        "  else:\n",
        "    return ('O' , 'X')\n",
        "    \n"
      ],
      "execution_count": 0,
      "outputs": []
    },
    {
      "cell_type": "code",
      "metadata": {
        "id": "aeCna4v1bZAe",
        "colab_type": "code",
        "colab": {
          "base_uri": "https://localhost:8080/",
          "height": 35
        },
        "outputId": "6a5e150f-59cb-493c-8196-51e7bd5f04f4"
      },
      "source": [
        "player1_marker , player2_marker = player_input()"
      ],
      "execution_count": 16,
      "outputs": [
        {
          "output_type": "stream",
          "text": [
            "Player 1 , choose X or O :X\n"
          ],
          "name": "stdout"
        }
      ]
    },
    {
      "cell_type": "code",
      "metadata": {
        "id": "sx7P3T4mba_s",
        "colab_type": "code",
        "colab": {
          "base_uri": "https://localhost:8080/",
          "height": 35
        },
        "outputId": "5eff5873-07b4-4b8e-d87f-25a9472d3fb1"
      },
      "source": [
        "player1_marker"
      ],
      "execution_count": 17,
      "outputs": [
        {
          "output_type": "execute_result",
          "data": {
            "text/plain": [
              "'X'"
            ]
          },
          "metadata": {
            "tags": []
          },
          "execution_count": 17
        }
      ]
    },
    {
      "cell_type": "code",
      "metadata": {
        "id": "dG9NccAZbudp",
        "colab_type": "code",
        "colab": {}
      },
      "source": [
        "# Now a function that takes in a board list object , \n",
        "# a marker and a desired position(in number 1-9) and\n",
        "# assign it to the board.\n",
        "\n",
        "def place_marker(board , marker , position):\n",
        "  board[position] = marker"
      ],
      "execution_count": 0,
      "outputs": []
    },
    {
      "cell_type": "code",
      "metadata": {
        "id": "kLLO1CC0eDsG",
        "colab_type": "code",
        "colab": {
          "base_uri": "https://localhost:8080/",
          "height": 35
        },
        "outputId": "4dc1aab3-f77e-403c-b3f4-c9270f870720"
      },
      "source": [
        "test_board"
      ],
      "execution_count": 19,
      "outputs": [
        {
          "output_type": "execute_result",
          "data": {
            "text/plain": [
              "[' ', ' ', ' ', ' ', ' ', ' ', ' ', ' ', ' ', ' ']"
            ]
          },
          "metadata": {
            "tags": []
          },
          "execution_count": 19
        }
      ]
    },
    {
      "cell_type": "code",
      "metadata": {
        "id": "OM2_RDqdeA3W",
        "colab_type": "code",
        "colab": {
          "base_uri": "https://localhost:8080/",
          "height": 72
        },
        "outputId": "7d2f283e-a659-44df-a2b5-55fd58184e46"
      },
      "source": [
        "place_marker(test_board , '$' , 8)\n",
        "display_board(test_board)"
      ],
      "execution_count": 20,
      "outputs": [
        {
          "output_type": "stream",
          "text": [
            " |$| \n",
            " | | \n",
            " | | \n"
          ],
          "name": "stdout"
        }
      ]
    },
    {
      "cell_type": "code",
      "metadata": {
        "id": "ZKscbUXzeQ-t",
        "colab_type": "code",
        "colab": {}
      },
      "source": [
        "#function that takes in a board and a marker(X or O) and then checks\n",
        "# to see if that mark has won.\n",
        "\n",
        "def win_check(board , mark):\n",
        "  #WIN TIC TAC TOE??\n",
        "\n",
        "  #ALL ROWS and check to see if they all share the same marker?\n",
        "  return((board[1] == board[2] == board[3] == mark) or\n",
        "  (board[4] == board[5] == board[6] == mark) or\n",
        "  (board[7] == board[8] == board[9] == mark) or\n",
        "  #All COllUMNS , check to see if marker matches\n",
        "  (board[7] == board[4] == board[1] == mark) or\n",
        "  (board[8] == board[5] == board[2] == mark) or\n",
        "  (board[9] == board[6] == board[3] == mark) or\n",
        "  #2 diagonals , check to see match\n",
        "  (board[7] == board[5] == board[3] == mark) or \n",
        "  (board[9] == board[5] == board[1] == mark)) \n",
        "\n"
      ],
      "execution_count": 0,
      "outputs": []
    },
    {
      "cell_type": "code",
      "metadata": {
        "id": "3ExdVj0igZoP",
        "colab_type": "code",
        "colab": {
          "base_uri": "https://localhost:8080/",
          "height": 91
        },
        "outputId": "3e2535e5-3826-405a-d737-4b0fa560f24b"
      },
      "source": [
        "display_board(test_board)\n",
        "win_check(test_board , 'X')"
      ],
      "execution_count": 28,
      "outputs": [
        {
          "output_type": "stream",
          "text": [
            "X|O|O\n",
            "O|X|O\n",
            "X|O|X\n"
          ],
          "name": "stdout"
        },
        {
          "output_type": "execute_result",
          "data": {
            "text/plain": [
              "True"
            ]
          },
          "metadata": {
            "tags": []
          },
          "execution_count": 28
        }
      ]
    },
    {
      "cell_type": "code",
      "metadata": {
        "id": "DwXvTMmYgkse",
        "colab_type": "code",
        "colab": {}
      },
      "source": [
        "#A function that uses the random module to randomly decide which \n",
        "# player goes first. You want to lookup random.randint()Return a\n",
        "#string which player went first.\n",
        "\n",
        "import random\n",
        "def choose_first():\n",
        "  flip = random.randint(0,1)\n",
        "  if flip == 0:\n",
        "    return 'Player 1'\n",
        "  else:\n",
        "    return 'Player 2'"
      ],
      "execution_count": 0,
      "outputs": []
    },
    {
      "cell_type": "code",
      "metadata": {
        "id": "BNJGHWe6h5Xq",
        "colab_type": "code",
        "colab": {}
      },
      "source": [
        "# A function that returns a boolean indicating whether a space on \n",
        "# the board is freely available\n",
        "\n",
        "def space_check(board, position):\n",
        "\n",
        "  return board[position] == ' '\n"
      ],
      "execution_count": 0,
      "outputs": []
    },
    {
      "cell_type": "code",
      "metadata": {
        "id": "UWke6lgjh7V_",
        "colab_type": "code",
        "colab": {}
      },
      "source": [
        "# a function that checks if the board is full and returns a \n",
        "#boolean value. True if full otherwise False\n",
        "\n",
        "def full_board_check(board):\n",
        "\n",
        "  for i in range(1, 10):\n",
        "    if space_check(board , i):\n",
        "      return False\n",
        "  \n",
        "  return True"
      ],
      "execution_count": 0,
      "outputs": []
    },
    {
      "cell_type": "code",
      "metadata": {
        "id": "RXrP2iVwi5lX",
        "colab_type": "code",
        "colab": {}
      },
      "source": [
        "# function that asks a player's next postition and then uses the\n",
        "#function space check to check if its a free position. if it is \n",
        "#then return postition for later use\n",
        "\n",
        "def player_choice(board):\n",
        "  position = 0\n",
        "\n",
        "  while position not in [1,2,3,4,5,6,7,8,9] or not space_check(board , position):\n",
        "    position = int(input('Choose a position: (1-9) '))\n",
        "\n",
        "  return position"
      ],
      "execution_count": 0,
      "outputs": []
    },
    {
      "cell_type": "code",
      "metadata": {
        "id": "BDg_D1CRjoon",
        "colab_type": "code",
        "colab": {}
      },
      "source": [
        "# A function that asks the player if they want to play again and \n",
        "#returns a boolean True if they do want to play again\n",
        "\n",
        "def replay():\n",
        "  input(\"Play Again?? enter Yes or No\")\n",
        "  return choice == 'Yes'"
      ],
      "execution_count": 0,
      "outputs": []
    },
    {
      "cell_type": "code",
      "metadata": {
        "id": "tbSshdHIkBy9",
        "colab_type": "code",
        "colab": {
          "base_uri": "https://localhost:8080/",
          "height": 566
        },
        "outputId": "b7465979-ed65-42b5-e14a-71e891fb9515"
      },
      "source": [
        "# setting up the game using while loop and all the functions\n",
        "print('WELCOME TO THE TIC TAC TOE !')\n",
        "\n",
        "#while loop to keep running the game\n",
        "while True:\n",
        "\n",
        "  #Play the Game\n",
        "\n",
        "  ##Set Everything up(Board , whos first , choose markers)\n",
        "  the_board = [' ']*10\n",
        "  player1_marker , player2_marker = player_input()\n",
        "\n",
        "  turn = choose_first()\n",
        "  print(turn + 'Will go first')\n",
        "\n",
        "  play_game = input('Ready to play? y or n')\n",
        "  if play_game == 'y':\n",
        "    game_on = True\n",
        "  else:\n",
        "    game_on = False\n",
        "\n",
        "  ##Game play\n",
        "\n",
        "  while game_on:\n",
        "\n",
        "    if turn == 'Player 1':\n",
        "\n",
        "      ###Player one turn\n",
        "\n",
        "      #show the board\n",
        "      display_board(the_board)\n",
        "\n",
        "      #Choose a postiiton\n",
        "      position = player_choice(the_board)\n",
        "\n",
        "      #place the marker on position\n",
        "      place_marker(the_board , player1_marker , position)\n",
        "\n",
        "      # check if they won\n",
        "      if win_check(the_board , player1_marker):\n",
        "        display_board(the_board)\n",
        "        print('PLAYER 1 HAS WON!!!!!!!!')\n",
        "        game_on = False\n",
        "      \n",
        "      else:\n",
        "        #or check if there is a tie\n",
        "        if full_board_check(the_board):\n",
        "          display_board(the_board)\n",
        "          print(\"TIE GAME!!\")\n",
        "          game_on = False\n",
        "          #No tie and No win? Then next player's turn\n",
        "        else:\n",
        "          turn = 'Player 2'\n",
        "      \n",
        "\n",
        "\n",
        "    else:\n",
        "\n",
        "     ## player two turn\n",
        "\n",
        "     #show the board\n",
        "      display_board(the_board)\n",
        "\n",
        "      #Choose a postiiton\n",
        "      position = player_choice(the_board)\n",
        "\n",
        "      #place the marker on position\n",
        "      place_marker(the_board , player2_marker , position)\n",
        "\n",
        "      # check if they won\n",
        "      if win_check(the_board , player2_marker):\n",
        "        display_board(the_board)\n",
        "        print('PLAYER 2 HAS WON!!!!!!!!')\n",
        "        game_on = False\n",
        "      \n",
        "      else:\n",
        "        if full_board_check(the_board):\n",
        "          display_board(the_board)\n",
        "          print(\"TIE GAME!!\")\n",
        "          game_on = False\n",
        "        else:\n",
        "          turn = 'Player 1'\n",
        "     \n",
        "\n",
        "  if not replay():\n",
        "    break\n",
        "  #break out of the while loop on replay()"
      ],
      "execution_count": 38,
      "outputs": [
        {
          "output_type": "error",
          "ename": "KeyboardInterrupt",
          "evalue": "ignored",
          "traceback": [
            "\u001b[0;31m---------------------------------------------------------------------------\u001b[0m",
            "\u001b[0;31mKeyboardInterrupt\u001b[0m                         Traceback (most recent call last)",
            "\u001b[0;32m/usr/local/lib/python3.6/dist-packages/ipykernel/kernelbase.py\u001b[0m in \u001b[0;36m_input_request\u001b[0;34m(self, prompt, ident, parent, password)\u001b[0m\n\u001b[1;32m    729\u001b[0m             \u001b[0;32mtry\u001b[0m\u001b[0;34m:\u001b[0m\u001b[0;34m\u001b[0m\u001b[0;34m\u001b[0m\u001b[0m\n\u001b[0;32m--> 730\u001b[0;31m                 \u001b[0mident\u001b[0m\u001b[0;34m,\u001b[0m \u001b[0mreply\u001b[0m \u001b[0;34m=\u001b[0m \u001b[0mself\u001b[0m\u001b[0;34m.\u001b[0m\u001b[0msession\u001b[0m\u001b[0;34m.\u001b[0m\u001b[0mrecv\u001b[0m\u001b[0;34m(\u001b[0m\u001b[0mself\u001b[0m\u001b[0;34m.\u001b[0m\u001b[0mstdin_socket\u001b[0m\u001b[0;34m,\u001b[0m \u001b[0;36m0\u001b[0m\u001b[0;34m)\u001b[0m\u001b[0;34m\u001b[0m\u001b[0;34m\u001b[0m\u001b[0m\n\u001b[0m\u001b[1;32m    731\u001b[0m             \u001b[0;32mexcept\u001b[0m \u001b[0mException\u001b[0m\u001b[0;34m:\u001b[0m\u001b[0;34m\u001b[0m\u001b[0;34m\u001b[0m\u001b[0m\n",
            "\u001b[0;32m/usr/local/lib/python3.6/dist-packages/jupyter_client/session.py\u001b[0m in \u001b[0;36mrecv\u001b[0;34m(self, socket, mode, content, copy)\u001b[0m\n\u001b[1;32m    802\u001b[0m         \u001b[0;32mtry\u001b[0m\u001b[0;34m:\u001b[0m\u001b[0;34m\u001b[0m\u001b[0;34m\u001b[0m\u001b[0m\n\u001b[0;32m--> 803\u001b[0;31m             \u001b[0mmsg_list\u001b[0m \u001b[0;34m=\u001b[0m \u001b[0msocket\u001b[0m\u001b[0;34m.\u001b[0m\u001b[0mrecv_multipart\u001b[0m\u001b[0;34m(\u001b[0m\u001b[0mmode\u001b[0m\u001b[0;34m,\u001b[0m \u001b[0mcopy\u001b[0m\u001b[0;34m=\u001b[0m\u001b[0mcopy\u001b[0m\u001b[0;34m)\u001b[0m\u001b[0;34m\u001b[0m\u001b[0;34m\u001b[0m\u001b[0m\n\u001b[0m\u001b[1;32m    804\u001b[0m         \u001b[0;32mexcept\u001b[0m \u001b[0mzmq\u001b[0m\u001b[0;34m.\u001b[0m\u001b[0mZMQError\u001b[0m \u001b[0;32mas\u001b[0m \u001b[0me\u001b[0m\u001b[0;34m:\u001b[0m\u001b[0;34m\u001b[0m\u001b[0;34m\u001b[0m\u001b[0m\n",
            "\u001b[0;32m/usr/local/lib/python3.6/dist-packages/zmq/sugar/socket.py\u001b[0m in \u001b[0;36mrecv_multipart\u001b[0;34m(self, flags, copy, track)\u001b[0m\n\u001b[1;32m    465\u001b[0m         \"\"\"\n\u001b[0;32m--> 466\u001b[0;31m         \u001b[0mparts\u001b[0m \u001b[0;34m=\u001b[0m \u001b[0;34m[\u001b[0m\u001b[0mself\u001b[0m\u001b[0;34m.\u001b[0m\u001b[0mrecv\u001b[0m\u001b[0;34m(\u001b[0m\u001b[0mflags\u001b[0m\u001b[0;34m,\u001b[0m \u001b[0mcopy\u001b[0m\u001b[0;34m=\u001b[0m\u001b[0mcopy\u001b[0m\u001b[0;34m,\u001b[0m \u001b[0mtrack\u001b[0m\u001b[0;34m=\u001b[0m\u001b[0mtrack\u001b[0m\u001b[0;34m)\u001b[0m\u001b[0;34m]\u001b[0m\u001b[0;34m\u001b[0m\u001b[0;34m\u001b[0m\u001b[0m\n\u001b[0m\u001b[1;32m    467\u001b[0m         \u001b[0;31m# have first part already, only loop while more to receive\u001b[0m\u001b[0;34m\u001b[0m\u001b[0;34m\u001b[0m\u001b[0;34m\u001b[0m\u001b[0m\n",
            "\u001b[0;32mzmq/backend/cython/socket.pyx\u001b[0m in \u001b[0;36mzmq.backend.cython.socket.Socket.recv\u001b[0;34m()\u001b[0m\n",
            "\u001b[0;32mzmq/backend/cython/socket.pyx\u001b[0m in \u001b[0;36mzmq.backend.cython.socket.Socket.recv\u001b[0;34m()\u001b[0m\n",
            "\u001b[0;32mzmq/backend/cython/socket.pyx\u001b[0m in \u001b[0;36mzmq.backend.cython.socket._recv_copy\u001b[0;34m()\u001b[0m\n",
            "\u001b[0;32m/usr/local/lib/python3.6/dist-packages/zmq/backend/cython/checkrc.pxd\u001b[0m in \u001b[0;36mzmq.backend.cython.checkrc._check_rc\u001b[0;34m()\u001b[0m\n",
            "\u001b[0;31mKeyboardInterrupt\u001b[0m: ",
            "\nDuring handling of the above exception, another exception occurred:\n",
            "\u001b[0;31mKeyboardInterrupt\u001b[0m                         Traceback (most recent call last)",
            "\u001b[0;32m<ipython-input-38-925f7cb4f267>\u001b[0m in \u001b[0;36m<module>\u001b[0;34m()\u001b[0m\n\u001b[1;32m     31\u001b[0m \u001b[0;34m\u001b[0m\u001b[0m\n\u001b[1;32m     32\u001b[0m       \u001b[0;31m#Choose a postiiton\u001b[0m\u001b[0;34m\u001b[0m\u001b[0;34m\u001b[0m\u001b[0;34m\u001b[0m\u001b[0m\n\u001b[0;32m---> 33\u001b[0;31m       \u001b[0mposition\u001b[0m \u001b[0;34m=\u001b[0m \u001b[0mplayer_choice\u001b[0m\u001b[0;34m(\u001b[0m\u001b[0mthe_board\u001b[0m\u001b[0;34m)\u001b[0m\u001b[0;34m\u001b[0m\u001b[0;34m\u001b[0m\u001b[0m\n\u001b[0m\u001b[1;32m     34\u001b[0m \u001b[0;34m\u001b[0m\u001b[0m\n\u001b[1;32m     35\u001b[0m       \u001b[0;31m#place the marker on position\u001b[0m\u001b[0;34m\u001b[0m\u001b[0;34m\u001b[0m\u001b[0;34m\u001b[0m\u001b[0m\n",
            "\u001b[0;32m<ipython-input-33-237532d446a0>\u001b[0m in \u001b[0;36mplayer_choice\u001b[0;34m(board)\u001b[0m\n\u001b[1;32m      4\u001b[0m \u001b[0;34m\u001b[0m\u001b[0m\n\u001b[1;32m      5\u001b[0m   \u001b[0;32mwhile\u001b[0m \u001b[0mposition\u001b[0m \u001b[0;32mnot\u001b[0m \u001b[0;32min\u001b[0m \u001b[0;34m[\u001b[0m\u001b[0;36m1\u001b[0m\u001b[0;34m,\u001b[0m\u001b[0;36m2\u001b[0m\u001b[0;34m,\u001b[0m\u001b[0;36m3\u001b[0m\u001b[0;34m,\u001b[0m\u001b[0;36m4\u001b[0m\u001b[0;34m,\u001b[0m\u001b[0;36m5\u001b[0m\u001b[0;34m,\u001b[0m\u001b[0;36m6\u001b[0m\u001b[0;34m,\u001b[0m\u001b[0;36m7\u001b[0m\u001b[0;34m,\u001b[0m\u001b[0;36m8\u001b[0m\u001b[0;34m,\u001b[0m\u001b[0;36m9\u001b[0m\u001b[0;34m]\u001b[0m \u001b[0;32mor\u001b[0m \u001b[0;32mnot\u001b[0m \u001b[0mspace_check\u001b[0m\u001b[0;34m(\u001b[0m\u001b[0mboard\u001b[0m \u001b[0;34m,\u001b[0m \u001b[0mposition\u001b[0m\u001b[0;34m)\u001b[0m\u001b[0;34m:\u001b[0m\u001b[0;34m\u001b[0m\u001b[0;34m\u001b[0m\u001b[0m\n\u001b[0;32m----> 6\u001b[0;31m     \u001b[0mposition\u001b[0m \u001b[0;34m=\u001b[0m \u001b[0mint\u001b[0m\u001b[0;34m(\u001b[0m\u001b[0minput\u001b[0m\u001b[0;34m(\u001b[0m\u001b[0;34m'Choose a position: (1-9) '\u001b[0m\u001b[0;34m)\u001b[0m\u001b[0;34m)\u001b[0m\u001b[0;34m\u001b[0m\u001b[0;34m\u001b[0m\u001b[0m\n\u001b[0m\u001b[1;32m      7\u001b[0m \u001b[0;34m\u001b[0m\u001b[0m\n\u001b[1;32m      8\u001b[0m   \u001b[0;32mreturn\u001b[0m \u001b[0mposition\u001b[0m\u001b[0;34m\u001b[0m\u001b[0;34m\u001b[0m\u001b[0m\n",
            "\u001b[0;32m/usr/local/lib/python3.6/dist-packages/ipykernel/kernelbase.py\u001b[0m in \u001b[0;36mraw_input\u001b[0;34m(self, prompt)\u001b[0m\n\u001b[1;32m    703\u001b[0m             \u001b[0mself\u001b[0m\u001b[0;34m.\u001b[0m\u001b[0m_parent_ident\u001b[0m\u001b[0;34m,\u001b[0m\u001b[0;34m\u001b[0m\u001b[0;34m\u001b[0m\u001b[0m\n\u001b[1;32m    704\u001b[0m             \u001b[0mself\u001b[0m\u001b[0;34m.\u001b[0m\u001b[0m_parent_header\u001b[0m\u001b[0;34m,\u001b[0m\u001b[0;34m\u001b[0m\u001b[0;34m\u001b[0m\u001b[0m\n\u001b[0;32m--> 705\u001b[0;31m             \u001b[0mpassword\u001b[0m\u001b[0;34m=\u001b[0m\u001b[0;32mFalse\u001b[0m\u001b[0;34m,\u001b[0m\u001b[0;34m\u001b[0m\u001b[0;34m\u001b[0m\u001b[0m\n\u001b[0m\u001b[1;32m    706\u001b[0m         )\n\u001b[1;32m    707\u001b[0m \u001b[0;34m\u001b[0m\u001b[0m\n",
            "\u001b[0;32m/usr/local/lib/python3.6/dist-packages/ipykernel/kernelbase.py\u001b[0m in \u001b[0;36m_input_request\u001b[0;34m(self, prompt, ident, parent, password)\u001b[0m\n\u001b[1;32m    733\u001b[0m             \u001b[0;32mexcept\u001b[0m \u001b[0mKeyboardInterrupt\u001b[0m\u001b[0;34m:\u001b[0m\u001b[0;34m\u001b[0m\u001b[0;34m\u001b[0m\u001b[0m\n\u001b[1;32m    734\u001b[0m                 \u001b[0;31m# re-raise KeyboardInterrupt, to truncate traceback\u001b[0m\u001b[0;34m\u001b[0m\u001b[0;34m\u001b[0m\u001b[0;34m\u001b[0m\u001b[0m\n\u001b[0;32m--> 735\u001b[0;31m                 \u001b[0;32mraise\u001b[0m \u001b[0mKeyboardInterrupt\u001b[0m\u001b[0;34m\u001b[0m\u001b[0;34m\u001b[0m\u001b[0m\n\u001b[0m\u001b[1;32m    736\u001b[0m             \u001b[0;32melse\u001b[0m\u001b[0;34m:\u001b[0m\u001b[0;34m\u001b[0m\u001b[0;34m\u001b[0m\u001b[0m\n\u001b[1;32m    737\u001b[0m                 \u001b[0;32mbreak\u001b[0m\u001b[0;34m\u001b[0m\u001b[0;34m\u001b[0m\u001b[0m\n",
            "\u001b[0;31mKeyboardInterrupt\u001b[0m: "
          ]
        }
      ]
    },
    {
      "cell_type": "code",
      "metadata": {
        "id": "bC900nx1oMKy",
        "colab_type": "code",
        "colab": {}
      },
      "source": [
        ""
      ],
      "execution_count": 0,
      "outputs": []
    }
  ]
}